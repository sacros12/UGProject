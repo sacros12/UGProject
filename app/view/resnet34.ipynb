!kaggle datasets download -d greeneagle2/tomatodataplantvillage --unzip
import os
os.environ['KAGGLE_CONFIG_DIR'] = "/content/drive/MyDrive/Kaggle"

%cd /content/drive/MyDrive/Kaggle/

%reload_ext autoreload
%autoreload 2
%matplotlib inline

Importing Libraries and Looking at the Data

from fastai import *
from fastai.vision import *
from fastai.metrics import error_rate, accuracy
import gdown
from os import listdir
path = "TomatoPlantVillage/"
os.listdir(path)

PATH_IMG = Path(path); path
directory_root = 'TomatoPlantVillage/'
image_list, label_list = [], []
try:
    print("[INFO] Loading images ...")
    root_dir = listdir(directory_root)
    for directory in root_dir :
        # remove .DS_Store from list
        if directory == ".DS_Store" :
            root_dir.remove(directory)

    for plant_disease_folder in root_dir:
        print(f"[INFO] Processing {plant_disease_folder} ...")
        plant_disease_image_list = listdir(f"{directory_root}/{plant_disease_folder}/")
                
        for single_plant_disease_image in plant_disease_image_list :
            if single_plant_disease_image == ".DS_Store" :
                plant_disease_image_list.remove(single_plant_disease_image)

        for image in plant_disease_image_list[:200]:
            image_directory = f"{directory_root}/{plant_disease_folder}/{image}"
            if image_directory.endswith(".jpg") == True or image_directory.endswith(".JPG") == True:
                image_list.append(image_directory)
                label_list.append(plant_disease_folder)
    print("[INFO] Image loading completed")  
except Exception as e:
    print(f"Error : {e}")
tfms = get_transforms(flip_vert=True, max_warp=0., max_zoom=0., max_rotate=0.)

file_path = 'TomatoPlantVillage/Tomato_Leaf_Mold/039183dc-a260-49fa-b28a-0c8f11614896___Crnl_L.Mold 6720.JPG'

def get_labels(file_path): 
    dir_name = os.path.dirname(file_path)
    split_dir_name = dir_name.split("/")
    dir_length = len(split_dir_name)
    label  = split_dir_name[dir_length - 1]
    return(label)

data = ImageDataBunch.from_name_func(path, image_list, label_func=get_labels,  size=224, 
                                     bs=64,num_workers=2,ds_tfms=tfms)
print(data)
data = data.normalize()


data.show_batch(rows=3, figsize=(15,11))
data.c

data.classes

Training the Model

learn = cnn_learner(data, models.resnet34, metrics=[accuracy, error_rate],opt_func=optim.Adam)

learn.fit_one_cycle(5)
learn.fit_one_cycle(2)
learn.save('train_7_cycles')

interpretation = ClassificationInterpretation.from_learner(learn)
losses, indices = interpretation.top_losses()
interpretation.plot_top_losses(4, figsize=(15,11))
interpretation.plot_confusion_matrix(figsize=(12,12), dpi=60)
interpretation.most_confused(min_val=2)
learn.lr_find()
learn.recorder.plot()
learn.unfreeze()
learn.fit_one_cycle(3, max_lr=slice(1e-03, 1e-02))
learn.fit_one_cycle(5, max_lr=slice(1e-03, 1e-02))
learn.save('train_lr_8_cycles')

learn.freeze()
learn.lr_find()
learn.recorder.plot()
lr = 1e-3/2
learn.fit_one_cycle(2, slice(lr))
learn.save('train_final5_cycles')

learn.load('train_final5_cycles')

learn.export('export_resnet34_model.pkl')

